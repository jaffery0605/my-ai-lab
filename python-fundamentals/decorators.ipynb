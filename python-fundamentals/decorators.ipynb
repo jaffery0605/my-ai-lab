{
 "cells": [
  {
   "cell_type": "markdown",
   "id": "a12c862a",
   "metadata": {},
   "source": [
    "## Basic Decorator"
   ]
  },
  {
   "cell_type": "code",
   "execution_count": null,
   "id": "98bef6c3",
   "metadata": {},
   "outputs": [
    {
     "name": "stdout",
     "output_type": "stream",
     "text": [
      "Entered Decorator\n",
      "HI World\n",
      "Exited Decorator\n"
     ]
    }
   ],
   "source": [
    "# ----------------------------\n",
    "# Simulating How Decorators Work Internally\n",
    "# ----------------------------\n",
    "\n",
    "# This is a decorator function.\n",
    "# It takes another function `func` as input and returns a new function (`wrapper`)\n",
    "# which adds extra behavior before and after calling the original function.\n",
    "def my_decorator(func):\n",
    "    # Inner function that adds extra logic\n",
    "    def wrapper():\n",
    "        print(\"Entered Decorator\")  # Code to execute BEFORE the original function\n",
    "        func()                      # Call the original function\n",
    "        print(\"Exited Decorator\")   # Code to execute AFTER the original function\n",
    "    return wrapper  # Return the new wrapped function\n",
    "\n",
    "# A simple function we want to decorate\n",
    "def say_hi():\n",
    "    print(\"HI World\")\n",
    "\n",
    "# This line simulates the effect of using @my_decorator\n",
    "# Instead of:\n",
    "#   @my_decorator\n",
    "#   def say_hi(): ...\n",
    "# We manually wrap it like this:\n",
    "hello = my_decorator(say_hi)\n",
    "\n",
    "# Now calling `hello()` will invoke the wrapper logic, not just `say_hi()`\n",
    "hello()\n",
    "\n",
    "# Output:\n",
    "# Entered Decorator\n",
    "# HI World\n",
    "# Exited Decorator\n"
   ]
  },
  {
   "cell_type": "code",
   "execution_count": null,
   "id": "16feaa5b",
   "metadata": {},
   "outputs": [
    {
     "name": "stdout",
     "output_type": "stream",
     "text": [
      "Entered Decorator\n",
      "Hello World\n",
      "Exited Decorator\n"
     ]
    }
   ],
   "source": [
    "# ----------------------------\n",
    "# Using Python's @ Decorator Syntax\n",
    "# ----------------------------\n",
    "\n",
    "# Define a decorator function\n",
    "# This function takes another function (`func`) as input\n",
    "# and returns a new function (`wrapper`) that adds extra behavior\n",
    "def my_decorator(func):\n",
    "    def wrapper():\n",
    "        print(\"Entered Decorator\")  # Code executed BEFORE the original function\n",
    "        func()                      # Call the original function\n",
    "        print(\"Exited Decorator\")   # Code executed AFTER the original function\n",
    "    return wrapper  # Return the wrapped version\n",
    "\n",
    "# Use the @ syntax to apply the decorator to this function\n",
    "# This is equivalent to:\n",
    "# say_hello_world = my_decorator(say_hello_world)\n",
    "@my_decorator\n",
    "def say_hello_world():\n",
    "    print(\"Hello World\")\n",
    "\n",
    "# Call the decorated function\n",
    "say_hello_world()\n",
    "\n",
    "# Output:\n",
    "# Entered Decorator\n",
    "# Hello World\n",
    "# Exited Decorator\n"
   ]
  },
  {
   "cell_type": "markdown",
   "id": "2cf54192",
   "metadata": {},
   "source": [
    "## Decorators with Arguments"
   ]
  },
  {
   "cell_type": "code",
   "execution_count": null,
   "id": "cf842e8c",
   "metadata": {},
   "outputs": [
    {
     "name": "stdout",
     "output_type": "stream",
     "text": [
      "Entered Decorator with arguments -  ('World',) {}\n",
      "Hello,  World\n",
      "Exited Decorator with arguments -  ('World',) {}\n",
      "Entered Decorator with arguments -  ('George',) {'last_name': 'Jumbo'}\n",
      "Hello, George Jumbo\n",
      "Exited Decorator with arguments -  ('George',) {'last_name': 'Jumbo'}\n"
     ]
    }
   ],
   "source": [
    "# ----------------------------------------------\n",
    "# Decorator Supporting Arbitrary Function Arguments\n",
    "# ----------------------------------------------\n",
    "\n",
    "# Define a decorator function that can handle any number of arguments\n",
    "# This is done using *args for positional arguments and **kwargs for keyword arguments\n",
    "def my_decorator(func):\n",
    "    def wrapper(*args, **kwargs):\n",
    "        print(\"Entered Decorator with arguments -\", args, kwargs)\n",
    "        func(*args, **kwargs)  # Forward all received arguments to the original function\n",
    "        print(\"Exited Decorator with arguments -\", args, kwargs)\n",
    "    return wrapper\n",
    "\n",
    "# ----------------------------------------------\n",
    "# Example 1: Decorate a function with one argument\n",
    "# ----------------------------------------------\n",
    "\n",
    "@my_decorator  # This decorates say_hello by wrapping it inside `wrapper`\n",
    "def say_hello(name):\n",
    "    print(\"Hello,\", name)\n",
    "\n",
    "say_hello(\"World\")\n",
    "# Output:\n",
    "# Entered Decorator with arguments - ('World',) {}\n",
    "# Hello, World\n",
    "# Exited Decorator with arguments - ('World',) {}\n",
    "\n",
    "# ----------------------------------------------\n",
    "# Example 2: Decorate a function with multiple arguments\n",
    "# ----------------------------------------------\n",
    "\n",
    "@my_decorator\n",
    "def greet_alex_family(first_name, last_name=\"Alex\"):\n",
    "    print(f\"Hello, {first_name} {last_name}\")\n",
    "\n",
    "greet_alex_family(\"George\", last_name=\"Jumbo\")\n",
    "# Output:\n",
    "# Entered Decorator with arguments - ('George',) {'last_name': 'Jumbo'}\n",
    "# Hello, George Jumbo\n",
    "# Exited Decorator with arguments - ('George',) {'last_name': 'Jumbo'}\n"
   ]
  },
  {
   "cell_type": "code",
   "execution_count": null,
   "id": "bee7817d",
   "metadata": {},
   "outputs": [],
   "source": []
  }
 ],
 "metadata": {
  "kernelspec": {
   "display_name": "Python 3",
   "language": "python",
   "name": "python3"
  },
  "language_info": {
   "codemirror_mode": {
    "name": "ipython",
    "version": 3
   },
   "file_extension": ".py",
   "mimetype": "text/x-python",
   "name": "python",
   "nbconvert_exporter": "python",
   "pygments_lexer": "ipython3",
   "version": "3.12.6"
  }
 },
 "nbformat": 4,
 "nbformat_minor": 5
}
