{
 "cells": [
  {
   "cell_type": "markdown",
   "id": "a12c862a",
   "metadata": {},
   "source": [
    "## Basic Decorator"
   ]
  },
  {
   "cell_type": "code",
   "execution_count": null,
   "id": "98bef6c3",
   "metadata": {},
   "outputs": [
    {
     "name": "stdout",
     "output_type": "stream",
     "text": [
      "Entered Decorator\n",
      "HI World\n",
      "Exited Decorator\n"
     ]
    }
   ],
   "source": [
    "# ----------------------------\n",
    "# Simulating How Decorators Work Internally\n",
    "# ----------------------------\n",
    "\n",
    "# This is a decorator function.\n",
    "# It takes another function `func` as input and returns a new function (`wrapper`)\n",
    "# which adds extra behavior before and after calling the original function.\n",
    "def my_decorator(func):\n",
    "    # Inner function that adds extra logic\n",
    "    def wrapper():\n",
    "        print(\"Entered Decorator\")  # Code to execute BEFORE the original function\n",
    "        func()                      # Call the original function\n",
    "        print(\"Exited Decorator\")   # Code to execute AFTER the original function\n",
    "    return wrapper  # Return the new wrapped function\n",
    "\n",
    "# A simple function we want to decorate\n",
    "def say_hi():\n",
    "    print(\"HI World\")\n",
    "\n",
    "# This line simulates the effect of using @my_decorator\n",
    "# Instead of:\n",
    "#   @my_decorator\n",
    "#   def say_hi(): ...\n",
    "# We manually wrap it like this:\n",
    "hello = my_decorator(say_hi)\n",
    "\n",
    "# Now calling `hello()` will invoke the wrapper logic, not just `say_hi()`\n",
    "hello()\n",
    "\n",
    "# Output:\n",
    "# Entered Decorator\n",
    "# HI World\n",
    "# Exited Decorator\n"
   ]
  },
  {
   "cell_type": "code",
   "execution_count": null,
   "id": "16feaa5b",
   "metadata": {},
   "outputs": [
    {
     "name": "stdout",
     "output_type": "stream",
     "text": [
      "Entered Decorator\n",
      "Hello World\n",
      "Exited Decorator\n"
     ]
    }
   ],
   "source": [
    "# ----------------------------\n",
    "# Using Python's @ Decorator Syntax\n",
    "# ----------------------------\n",
    "\n",
    "# Define a decorator function\n",
    "# This function takes another function (`func`) as input\n",
    "# and returns a new function (`wrapper`) that adds extra behavior\n",
    "def my_decorator(func):\n",
    "    def wrapper():\n",
    "        print(\"Entered Decorator\")  # Code executed BEFORE the original function\n",
    "        func()                      # Call the original function\n",
    "        print(\"Exited Decorator\")   # Code executed AFTER the original function\n",
    "    return wrapper  # Return the wrapped version\n",
    "\n",
    "# Use the @ syntax to apply the decorator to this function\n",
    "# This is equivalent to:\n",
    "# say_hello_world = my_decorator(say_hello_world)\n",
    "@my_decorator\n",
    "def say_hello_world():\n",
    "    print(\"Hello World\")\n",
    "\n",
    "# Call the decorated function\n",
    "say_hello_world()\n",
    "\n",
    "# Output:\n",
    "# Entered Decorator\n",
    "# Hello World\n",
    "# Exited Decorator\n"
   ]
  },
  {
   "cell_type": "markdown",
   "id": "2cf54192",
   "metadata": {},
   "source": [
    "## Decorators with Arguments"
   ]
  },
  {
   "cell_type": "code",
   "execution_count": null,
   "id": "cf842e8c",
   "metadata": {},
   "outputs": [
    {
     "name": "stdout",
     "output_type": "stream",
     "text": [
      "Entered Decorator with arguments -  ('World',) {}\n",
      "Hello,  World\n",
      "Exited Decorator with arguments -  ('World',) {}\n",
      "Entered Decorator with arguments -  ('George',) {'last_name': 'Jumbo'}\n",
      "Hello, George Jumbo\n",
      "Exited Decorator with arguments -  ('George',) {'last_name': 'Jumbo'}\n"
     ]
    }
   ],
   "source": [
    "# ----------------------------------------------\n",
    "# Decorator Supporting Arbitrary Function Arguments\n",
    "# ----------------------------------------------\n",
    "\n",
    "# Define a decorator function that can handle any number of arguments\n",
    "# This is done using *args for positional arguments and **kwargs for keyword arguments\n",
    "def my_decorator(func):\n",
    "    def wrapper(*args, **kwargs):\n",
    "        print(\"Entered Decorator with arguments -\", args, kwargs)\n",
    "        func(*args, **kwargs)  # Forward all received arguments to the original function\n",
    "        print(\"Exited Decorator with arguments -\", args, kwargs)\n",
    "    return wrapper\n",
    "\n",
    "# ----------------------------------------------\n",
    "# Example 1: Decorate a function with one argument\n",
    "# ----------------------------------------------\n",
    "\n",
    "@my_decorator  # This decorates say_hello by wrapping it inside `wrapper`\n",
    "def say_hello(name):\n",
    "    print(\"Hello,\", name)\n",
    "\n",
    "say_hello(\"World\")\n",
    "# Output:\n",
    "# Entered Decorator with arguments - ('World',) {}\n",
    "# Hello, World\n",
    "# Exited Decorator with arguments - ('World',) {}\n",
    "\n",
    "# ----------------------------------------------\n",
    "# Example 2: Decorate a function with multiple arguments\n",
    "# ----------------------------------------------\n",
    "\n",
    "@my_decorator\n",
    "def greet_alex_family(first_name, last_name=\"Alex\"):\n",
    "    print(f\"Hello, {first_name} {last_name}\")\n",
    "\n",
    "greet_alex_family(\"George\", last_name=\"Jumbo\")\n",
    "# Output:\n",
    "# Entered Decorator with arguments - ('George',) {'last_name': 'Jumbo'}\n",
    "# Hello, George Jumbo\n",
    "# Exited Decorator with arguments - ('George',) {'last_name': 'Jumbo'}\n"
   ]
  },
  {
   "cell_type": "code",
   "execution_count": 24,
   "id": "c21bd3a1",
   "metadata": {},
   "outputs": [
    {
     "name": "stdout",
     "output_type": "stream",
     "text": [
      "Entered Decorator with argument passed -  Decorator with arg\n",
      "Hello, World\n",
      "Exited Decorator with arguments passed -  Decorator with arg\n"
     ]
    }
   ],
   "source": [
    "# ----------------------------------------------\n",
    "# Decorator Supporting Arbitrary Arguments\n",
    "# ----------------------------------------------\n",
    "\n",
    "# Define a decorator function that can handle any number of arguments\n",
    "# This is done by wrapping another function on wrapper\n",
    "def my_decorator_with_arg(dec_name):\n",
    "    def my_decorator(func):\n",
    "        def wrapper(*args, **kwargs):\n",
    "            print(\"Entered Decorator with argument passed - \", dec_name)\n",
    "            func(*args, **kwargs)  # Forward all received arguments to the original function\n",
    "            print(\"Exited Decorator with arguments passed - \", dec_name)\n",
    "        return wrapper\n",
    "    return my_decorator\n",
    "\n",
    "# ----------------------------------------------\n",
    "# Example 1: Decorate a function with argument\n",
    "# ----------------------------------------------\n",
    "\n",
    "@my_decorator_with_arg(dec_name=\"Decorator with arg\")  # This decorates say_hello by wrapping \n",
    "def say_hello(name):\n",
    "    print(\"Hello,\", name)\n",
    "\n",
    "say_hello(\"World\")\n",
    "# Output:\n",
    "# Entered Decorator with arguments passed - Decorator with arg\n",
    "# Hello, World\n",
    "# Exited Decorator with arguments passed - Decorator with arg\n"
   ]
  },
  {
   "cell_type": "markdown",
   "id": "1addf05d",
   "metadata": {},
   "source": [
    "## Decorators Usecases"
   ]
  },
  {
   "cell_type": "code",
   "execution_count": 23,
   "id": "bee7817d",
   "metadata": {},
   "outputs": [
    {
     "name": "stdout",
     "output_type": "stream",
     "text": [
      "time taken: 4 seconds\n"
     ]
    },
    {
     "data": {
      "text/plain": [
       "'Hello,World'"
      ]
     },
     "execution_count": 23,
     "metadata": {},
     "output_type": "execute_result"
    }
   ],
   "source": [
    "# ----------------------------------------------\n",
    "# Get the Execution Time of a Function\n",
    "# ----------------------------------------------\n",
    "import time # import time module to get current time\n",
    "# Define a decorator function that can handle any number of arguments\n",
    "# This is done using *args for positional arguments and **kwargs for keyword arguments\n",
    "def time_taken(func):\n",
    "    def wrapper(*args, **kwargs):\n",
    "        start = time.time()\n",
    "        res = func(*args, **kwargs)  # Forward all received arguments to the original function\n",
    "        print(f\"time taken: {int(time.time() - start)} seconds\")\n",
    "        return res\n",
    "    return wrapper\n",
    "\n",
    "# ----------------------------------------------\n",
    "# Example 1: Decorate a function where you want to check timetaken\n",
    "# ----------------------------------------------\n",
    "\n",
    "@time_taken  # This decorates say_hello by wrapping it inside `wrapper`\n",
    "def say_hello(name):\n",
    "    time.sleep(4) # we are halting the execution by 4 seconds for validation\n",
    "    return f\"Hello,{name}\"\n",
    "\n",
    "say_hello(\"World\")\n",
    "# Output:\n",
    "# time taken : 4 seconds \n",
    "# 'Hello, World'\n"
   ]
  },
  {
   "cell_type": "code",
   "execution_count": null,
   "id": "7f47bf6e",
   "metadata": {},
   "outputs": [
    {
     "name": "stdout",
     "output_type": "stream",
     "text": [
      "Hello, World\n",
      "[Cached] - Hello, World\n",
      "Hello, Universe\n",
      "[Cached] - Hello, Universe\n"
     ]
    }
   ],
   "source": [
    "# ----------------------------------------------\n",
    "# Cache the Results of a Function Call\n",
    "# ----------------------------------------------\n",
    "\n",
    "# Define a decorator that stores results of previous calls\n",
    "# Uses *args for positional and **kwargs for keyword arguments\n",
    "def func_res_cache(func):\n",
    "    res_cache = {}  # Dictionary to store cached results\n",
    "\n",
    "    def wrapper(*args, **kwargs):\n",
    "        key = (*args, *kwargs.items())  # Create a unique key from arguments\n",
    "        if key in res_cache:\n",
    "            return f\"[Cached] - {res_cache[key]}\"  # Return cached result\n",
    "        res = func(*args, **kwargs)  # Call the original function\n",
    "        res_cache[key] = res  # Store the result in cache\n",
    "        return res\n",
    "\n",
    "    return wrapper\n",
    "\n",
    "# ----------------------------------------------\n",
    "# Example 1: Decorate a function where you want to cache results\n",
    "# ----------------------------------------------\n",
    "\n",
    "@func_res_cache  # Decorates say_hello to add caching\n",
    "def say_hello(name):\n",
    "    return f\"Hello, {name}\"\n",
    "\n",
    "# Call the function multiple times with same/different inputs\n",
    "print(say_hello(\"World\"))\n",
    "print(say_hello(\"World\"))\n",
    "print(say_hello(\"Universe\"))\n",
    "print(say_hello(\"Universe\"))\n",
    "\n",
    "# Output:\n",
    "# Hello, World\n",
    "# [Cached] - Hello, World\n",
    "# Hello, Universe\n",
    "# [Cached] - Hello, Universe\n"
   ]
  },
  {
   "cell_type": "code",
   "execution_count": null,
   "id": "733222e8",
   "metadata": {},
   "outputs": [
    {
     "name": "stdout",
     "output_type": "stream",
     "text": [
      "Hello, World\n",
      "[Cached] - Hello, World\n",
      "Hello, Universe\n",
      "Hello, Universe\n"
     ]
    }
   ],
   "source": [
    "# ----------------------------------------------\n",
    "# Decorator to Cache Results with Expiration Time\n",
    "# ----------------------------------------------\n",
    "\n",
    "import time  # Import time module to handle cache expiration\n",
    "\n",
    "# This is a parameterized decorator (takes an argument: exp_time)\n",
    "# It caches results for a limited time and clears expired entries\n",
    "def func_res_cache_exp(exp_time):\n",
    "    def decorator(func):\n",
    "        res_cache = {}  # Dictionary to store cached results with timestamps\n",
    "\n",
    "        def wrapper(*args, **kwargs):\n",
    "            key = (*args, *kwargs.items())  # Create a unique key from arguments\n",
    "\n",
    "            # Check if key is in cache\n",
    "            if key in res_cache:\n",
    "                cache_res, time_collected = res_cache[key]\n",
    "                \n",
    "                # If cached result is expired, remove it\n",
    "                if time.time() - time_collected > exp_time:\n",
    "                    del res_cache[key]\n",
    "                else:\n",
    "                    return f\"[Cached] - {cache_res}\"  # Return cached result\n",
    "\n",
    "            # Compute and store new result with timestamp\n",
    "            res = func(*args, **kwargs)\n",
    "            res_cache[key] = (res, time.time())\n",
    "            return res\n",
    "\n",
    "        return wrapper\n",
    "    return decorator  # Return the actual decorator\n",
    "\n",
    "# ----------------------------------------------\n",
    "# Example 1: Decorate a function with result caching and expiration\n",
    "# ----------------------------------------------\n",
    "\n",
    "@func_res_cache_exp(exp_time=2)  # Cache will expire after 2 seconds\n",
    "def say_hello(name, delay_time=1):\n",
    "    time.sleep(delay_time)  # Simulate delay\n",
    "    return f\"Hello, {name}\"\n",
    "\n",
    "# Call the function multiple times to test caching and expiration\n",
    "print(say_hello(\"World\"))         # First call — computed\n",
    "print(say_hello(\"World\"))         # Cached result (within 2 seconds)\n",
    "print(say_hello(\"Universe\"))      # First call — computed\n",
    "print(say_hello(\"Universe\", 3))   # Delay causes cache to expire — recomputed\n",
    "\n",
    "# Output:\n",
    "# Hello, World\n",
    "# [Cached] - Hello, World\n",
    "# Hello, Universe\n",
    "# Hello, Universe\n"
   ]
  }
 ],
 "metadata": {
  "kernelspec": {
   "display_name": "Python 3",
   "language": "python",
   "name": "python3"
  },
  "language_info": {
   "codemirror_mode": {
    "name": "ipython",
    "version": 3
   },
   "file_extension": ".py",
   "mimetype": "text/x-python",
   "name": "python",
   "nbconvert_exporter": "python",
   "pygments_lexer": "ipython3",
   "version": "3.12.6"
  }
 },
 "nbformat": 4,
 "nbformat_minor": 5
}
